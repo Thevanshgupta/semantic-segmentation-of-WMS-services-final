{
 "cells": [
  {
   "cell_type": "markdown",
   "metadata": {
    "collapsed": true
   },
   "source": [
    "# Mapillary label analysis"
   ]
  },
  {
   "cell_type": "markdown",
   "metadata": {},
   "source": [
    "This notebook aims at describing the [Mapillary](https://www.mapillary.com/dataset/vistas) dataset. This dataset is used for semantic segmentation purpose, and contains 25000 street-scene images:\n",
    "- 18000 in training dataset;\n",
    "- 2000 in validation dataset;\n",
    "- 5000 in testing dataset.\n",
    "\n",
    "In the following cells, the dataset labels will be described, and their popularity within dataset will be evaluated. Additionnally, the following questions will be answered: what is the frequency of appearance of each object type? How many labels appear on a typical image? What are the most frequent object association?"
   ]
  },
  {
   "cell_type": "markdown",
   "metadata": {},
   "source": [
    "## Introduction"
   ]
  },
  {
   "cell_type": "markdown",
   "metadata": {},
   "source": [
    "As usual, we import the useful module. `pandas` is of course needed, as we will handle dataframes."
   ]
  },
  {
   "cell_type": "code",
   "execution_count": 1,
   "metadata": {},
   "outputs": [],
   "source": [
    "import itertools\n",
    "import json\n",
    "import matplotlib.pyplot as plt\n",
    "import numpy as np\n",
    "import os\n",
    "import pandas as pd\n",
    "import seaborn as sns\n",
    "\n",
    "%matplotlib inline"
   ]
  },
  {
   "cell_type": "markdown",
   "metadata": {},
   "source": [
    "Some modules in `./deeposlandia` are recovered to make the analysis easier."
   ]
  },
  {
   "cell_type": "code",
   "execution_count": 2,
   "metadata": {},
   "outputs": [
    {
     "name": "stdout",
     "output_type": "stream",
     "text": [
      "env: DEEPOSL_CONFIG=../config.ini\n"
     ]
    }
   ],
   "source": [
    "env DEEPOSL_CONFIG=../config.ini"
   ]
  },
  {
   "cell_type": "code",
   "execution_count": 3,
   "metadata": {},
   "outputs": [],
   "source": [
    "from deeposlandia import utils, aggregate_label\n",
    "from deeposlandia.datasets import mapillary"
   ]
  },
  {
   "cell_type": "code",
   "execution_count": 4,
   "metadata": {},
   "outputs": [],
   "source": [
    "DATAPATH = '../data'\n",
    "DATASET = 'mapillary'"
   ]
  },
  {
   "cell_type": "code",
   "execution_count": 5,
   "metadata": {},
   "outputs": [
    {
     "data": {
      "image/png": "[encoded data removed]",
      "text/plain": [
       "<Figure size 504x72 with 1 Axes>"
      ]
     },
     "metadata": {
      "needs_background": "light"
     },
     "output_type": "display_data"
    }
   ],
   "source": [
    "palette = sns.color_palette('hls', 7)\n",
    "sns.palplot(palette)"
   ]
  },
  {
   "cell_type": "markdown",
   "metadata": {},
   "source": [
    "## Metadata description"
   ]
  },
  {
   "cell_type": "markdown",
   "metadata": {},
   "source": [
    "In the following paragraphs, we describe an aggregated version of the original Mapillary dataset. This aggregation has been hand-made, and every subsequent results depends on it. This classification is inspired from original label families."
   ]
  },
  {
   "cell_type": "code",
   "execution_count": 6,
   "metadata": {},
   "outputs": [],
   "source": [
    "config = utils.read_config(os.path.join(DATAPATH, DATASET, \"input\", \"config_aggregate.json\"))"
   ]
  },
  {
   "cell_type": "code",
   "execution_count": 7,
   "metadata": {},
   "outputs": [
    {
     "data": {
      "text/plain": [
       "[{'id': 0,\n",
       "  'family': 'animal',\n",
       "  'name': 'animal',\n",
       "  'contains': 'bird...ground-animal',\n",
       "  'contains_id': [0, 1],\n",
       "  'color': [229, 85, 76],\n",
       "  'evaluate': True},\n",
       " {'id': 1,\n",
       "  'family': 'construction',\n",
       "  'name': 'barrier',\n",
       "  'contains': 'curb...fence...guard-rail...other-barrier...wall',\n",
       "  'contains_id': [2, 3, 4, 5, 6],\n",
       "  'color': [229, 156, 76],\n",
       "  'evaluate': True}]"
      ]
     },
     "execution_count": 7,
     "metadata": {},
     "output_type": "execute_result"
    }
   ],
   "source": [
    "labels = config[\"labels\"]\n",
    "labels[:2]"
   ]
  },
  {
   "cell_type": "markdown",
   "metadata": {},
   "source": [
    "In order to describe the Mapillary dataset labels, we transform the information contained into configuration file as a `pandas.DataFrame`."
   ]
  },
  {
   "cell_type": "code",
   "execution_count": 8,
   "metadata": {},
   "outputs": [
    {
     "data": {
      "text/html": [
       "<div>\n",
       "<style scoped>\n",
       "    .dataframe tbody tr th:only-of-type {\n",
       "        vertical-align: middle;\n",
       "    }\n",
       "\n",
       "    .dataframe tbody tr th {\n",
       "        vertical-align: top;\n",
       "    }\n",
       "\n",
       "    .dataframe thead th {\n",
       "        text-align: right;\n",
       "    }\n",
       "</style>\n",
       "<table border=\"1\" class=\"dataframe\">\n",
       "  <thead>\n",
       "    <tr style=\"text-align: right;\">\n",
       "      <th></th>\n",
       "      <th>color</th>\n",
       "      <th>contains</th>\n",
       "      <th>contains_id</th>\n",
       "      <th>evaluate</th>\n",
       "      <th>family</th>\n",
       "      <th>id</th>\n",
       "      <th>name</th>\n",
       "    </tr>\n",
       "  </thead>\n",
       "  <tbody>\n",
       "    <tr>\n",
       "      <th>0</th>\n",
       "      <td>[229, 85, 76]</td>\n",
       "      <td>bird...ground-animal</td>\n",
       "      <td>[0, 1]</td>\n",
       "      <td>True</td>\n",
       "      <td>animal</td>\n",
       "      <td>0</td>\n",
       "      <td>animal</td>\n",
       "    </tr>\n",
       "    <tr>\n",
       "      <th>1</th>\n",
       "      <td>[229, 156, 76]</td>\n",
       "      <td>curb...fence...guard-rail...other-barrier...wall</td>\n",
       "      <td>[2, 3, 4, 5, 6]</td>\n",
       "      <td>True</td>\n",
       "      <td>construction</td>\n",
       "      <td>1</td>\n",
       "      <td>barrier</td>\n",
       "    </tr>\n",
       "    <tr>\n",
       "      <th>2</th>\n",
       "      <td>[229, 226, 76]</td>\n",
       "      <td>bike-lane...crosswalk-plain...curb-cut...parki...</td>\n",
       "      <td>[7, 8, 9, 10, 11, 12, 13, 14, 15]</td>\n",
       "      <td>True</td>\n",
       "      <td>construction</td>\n",
       "      <td>2</td>\n",
       "      <td>flat</td>\n",
       "    </tr>\n",
       "  </tbody>\n",
       "</table>\n",
       "</div>"
      ],
      "text/plain": [
       "            color                                           contains  \\\n",
       "0   [229, 85, 76]                               bird...ground-animal   \n",
       "1  [229, 156, 76]   curb...fence...guard-rail...other-barrier...wall   \n",
       "2  [229, 226, 76]  bike-lane...crosswalk-plain...curb-cut...parki...   \n",
       "\n",
       "                         contains_id  evaluate        family  id     name  \n",
       "0                             [0, 1]      True        animal   0   animal  \n",
       "1                    [2, 3, 4, 5, 6]      True  construction   1  barrier  \n",
       "2  [7, 8, 9, 10, 11, 12, 13, 14, 15]      True  construction   2     flat  "
      ]
     },
     "execution_count": 8,
     "metadata": {},
     "output_type": "execute_result"
    }
   ],
   "source": [
    "df_labels = pd.DataFrame(labels)\n",
    "df_labels.head(3)"
   ]
  },
  {
   "cell_type": "code",
   "execution_count": 9,
   "metadata": {},
   "outputs": [
    {
     "data": {
      "text/plain": [
       "13"
      ]
     },
     "execution_count": 9,
     "metadata": {},
     "output_type": "execute_result"
    }
   ],
   "source": [
    "len(df_labels)"
   ]
  },
  {
   "cell_type": "code",
   "execution_count": 10,
   "metadata": {},
   "outputs": [
    {
     "data": {
      "text/plain": [
       "([0, 1, 2, 3, 4, 5, 6, 7, 8, 9, 10, 11, 12],\n",
       " <a list of 13 Text xticklabel objects>)"
      ]
     },
     "execution_count": 10,
     "metadata": {},
     "output_type": "execute_result"
    },
    {
     "data": {
      "image/png": "[encoded data removed]",
      "text/plain": [
       "<Figure size 432x288 with 1 Axes>"
      ]
     },
     "metadata": {
      "needs_background": "light"
     },
     "output_type": "display_data"
    }
   ],
   "source": [
    "label_categories = df_labels['name'].unique()\n",
    "plt.bar(df_labels['name'], df_labels[\"contains_id\"].apply(len), color=palette)\n",
    "plt.xticks(rotation=90)"
   ]
  },
  {
   "cell_type": "markdown",
   "metadata": {},
   "source": [
    "These aggregation step makes a balanced distribution. In particular, we denote:\n",
    "- 16 miscellaneous `object` labels:"
   ]
  },
  {
   "cell_type": "code",
   "execution_count": 11,
   "metadata": {},
   "outputs": [
    {
     "data": {
      "text/plain": [
       "['banner',\n",
       " 'bench',\n",
       " 'bike-rack',\n",
       " 'billboard',\n",
       " 'catch-basin',\n",
       " 'cctv-camera',\n",
       " 'fire-hydrant',\n",
       " 'junction-box',\n",
       " 'mailbox',\n",
       " 'manhole',\n",
       " 'phone-booth',\n",
       " 'pothole',\n",
       " 'street-light',\n",
       " 'traffic-light',\n",
       " 'trash-can']"
      ]
     },
     "execution_count": 11,
     "metadata": {},
     "output_type": "execute_result"
    }
   ],
   "source": [
    "df_labels.loc[df_labels['name']==\"object\", \"contains\"].values[0].split(\"...\")"
   ]
  },
  {
   "cell_type": "markdown",
   "metadata": {},
   "source": [
    "- 11 `vehicle` objects:"
   ]
  },
  {
   "cell_type": "code",
   "execution_count": 12,
   "metadata": {},
   "outputs": [
    {
     "data": {
      "text/plain": [
       "['bicycle',\n",
       " 'boat',\n",
       " 'bus',\n",
       " 'car',\n",
       " 'caravan',\n",
       " 'motorcycle',\n",
       " 'on-rails',\n",
       " 'other-vehicle',\n",
       " 'trailer',\n",
       " 'truck',\n",
       " 'wheeled-slow']"
      ]
     },
     "execution_count": 12,
     "metadata": {},
     "output_type": "execute_result"
    }
   ],
   "source": [
    "df_labels.loc[df_labels['name']==\"vehicle\", \"contains\"].values[0].split(\"...\")"
   ]
  },
  {
   "cell_type": "markdown",
   "metadata": {},
   "source": [
    "- 9 `flat` objects:"
   ]
  },
  {
   "cell_type": "code",
   "execution_count": 13,
   "metadata": {},
   "outputs": [
    {
     "data": {
      "text/plain": [
       "['bike-lane',\n",
       " 'crosswalk-plain',\n",
       " 'curb-cut',\n",
       " 'parking',\n",
       " 'pedestrian-area',\n",
       " 'rail-track',\n",
       " 'road',\n",
       " 'service-lane',\n",
       " 'sidewalk']"
      ]
     },
     "execution_count": 13,
     "metadata": {},
     "output_type": "execute_result"
    }
   ],
   "source": [
    "df_labels.loc[df_labels['name']==\"flat\", \"contains\"].values[0].split(\"...\")"
   ]
  },
  {
   "cell_type": "markdown",
   "metadata": {},
   "source": [
    "- and so on..."
   ]
  },
  {
   "cell_type": "markdown",
   "metadata": {},
   "source": [
    "## Data description"
   ]
  },
  {
   "cell_type": "markdown",
   "metadata": {},
   "source": [
    "In order to describe the dataset itself, we focus on preprocessed images of size `400 * 400`. We directly consider aggregated datasets."
   ]
  },
  {
   "cell_type": "code",
   "execution_count": 14,
   "metadata": {},
   "outputs": [],
   "source": [
    "config = utils.read_config(os.path.join(DATAPATH, DATASET, 'preprocessed', '400', 'training.json'))"
   ]
  },
  {
   "cell_type": "markdown",
   "metadata": {},
   "source": [
    "The configuration file for preprocessed dataset contains a `images` section, where the presence of every label is filled in. By extracting this information and transforming it into a `pandas.DataFrame` (each row refers to an image, each column to a label, a ̀`1` means that the label is on the picture), we can show the first images as an example:"
   ]
  },
  {
   "cell_type": "code",
   "execution_count": 19,
   "metadata": {},
   "outputs": [
    {
     "data": {
      "text/html": [
       "<div>\n",
       "<style scoped>\n",
       "    .dataframe tbody tr th:only-of-type {\n",
       "        vertical-align: middle;\n",
       "    }\n",
       "\n",
       "    .dataframe tbody tr th {\n",
       "        vertical-align: top;\n",
       "    }\n",
       "\n",
       "    .dataframe thead th {\n",
       "        text-align: right;\n",
       "    }\n",
       "</style>\n",
       "<table border=\"1\" class=\"dataframe\">\n",
       "  <thead>\n",
       "    <tr style=\"text-align: right;\">\n",
       "      <th></th>\n",
       "      <th>0</th>\n",
       "      <th>1</th>\n",
       "      <th>10</th>\n",
       "      <th>11</th>\n",
       "      <th>12</th>\n",
       "      <th>2</th>\n",
       "      <th>3</th>\n",
       "      <th>4</th>\n",
       "      <th>5</th>\n",
       "      <th>6</th>\n",
       "      <th>7</th>\n",
       "      <th>8</th>\n",
       "      <th>9</th>\n",
       "    </tr>\n",
       "  </thead>\n",
       "  <tbody>\n",
       "    <tr>\n",
       "      <th>0</th>\n",
       "      <td>1</td>\n",
       "      <td>1</td>\n",
       "      <td>1</td>\n",
       "      <td>1</td>\n",
       "      <td>1</td>\n",
       "      <td>1</td>\n",
       "      <td>1</td>\n",
       "      <td>1</td>\n",
       "      <td>1</td>\n",
       "      <td>1</td>\n",
       "      <td>0</td>\n",
       "      <td>1</td>\n",
       "      <td>1</td>\n",
       "    </tr>\n",
       "    <tr>\n",
       "      <th>1</th>\n",
       "      <td>0</td>\n",
       "      <td>1</td>\n",
       "      <td>1</td>\n",
       "      <td>1</td>\n",
       "      <td>1</td>\n",
       "      <td>1</td>\n",
       "      <td>1</td>\n",
       "      <td>1</td>\n",
       "      <td>1</td>\n",
       "      <td>1</td>\n",
       "      <td>1</td>\n",
       "      <td>1</td>\n",
       "      <td>1</td>\n",
       "    </tr>\n",
       "    <tr>\n",
       "      <th>2</th>\n",
       "      <td>0</td>\n",
       "      <td>1</td>\n",
       "      <td>1</td>\n",
       "      <td>1</td>\n",
       "      <td>1</td>\n",
       "      <td>1</td>\n",
       "      <td>1</td>\n",
       "      <td>1</td>\n",
       "      <td>1</td>\n",
       "      <td>1</td>\n",
       "      <td>0</td>\n",
       "      <td>1</td>\n",
       "      <td>1</td>\n",
       "    </tr>\n",
       "  </tbody>\n",
       "</table>\n",
       "</div>"
      ],
      "text/plain": [
       "   0  1  10  11  12  2  3  4  5  6  7  8  9\n",
       "0  1  1   1   1   1  1  1  1  1  1  0  1  1\n",
       "1  0  1   1   1   1  1  1  1  1  1  1  1  1\n",
       "2  0  1   1   1   1  1  1  1  1  1  0  1  1"
      ]
     },
     "execution_count": 19,
     "metadata": {},
     "output_type": "execute_result"
    }
   ],
   "source": [
    "label_popularity = [image['labels'] for image in config['images']]\n",
    "label_popularity = pd.DataFrame(label_popularity)\n",
    "label_popularity.head(3)"
   ]
  },
  {
   "cell_type": "markdown",
   "metadata": {},
   "source": [
    "By simple `apply` calls, we can get the number of available objects per image, as well as the number of images in which each label is available."
   ]
  },
  {
   "cell_type": "code",
   "execution_count": 16,
   "metadata": {},
   "outputs": [],
   "source": [
    "image_count_per_label = label_popularity.apply(sum, axis=0)"
   ]
  },
  {
   "cell_type": "code",
   "execution_count": 17,
   "metadata": {},
   "outputs": [
    {
     "name": "stdout",
     "output_type": "stream",
     "text": [
      "The label 'animal' is on 773 images.\n",
      "The image 0 contains 12 labels.\n"
     ]
    }
   ],
   "source": [
    "image_count_per_label = label_popularity.apply(sum, axis=0)\n",
    "image_count_per_label.index = image_count_per_label.index.astype(int)\n",
    "print(\"The label '{}' is on {} images.\".format(df_labels.loc[0, \"name\"], image_count_per_label[0]))\n",
    "label_count_per_image = label_popularity.apply(sum, axis=1)\n",
    "print(\"The image {} contains {} labels.\".format(0, label_count_per_image[0]))"
   ]
  },
  {
   "cell_type": "markdown",
   "metadata": {},
   "source": [
    "As examples, we learn here that 773 images contain animals in the this preprocessed training dataset. And that the first image contains every aggregated labels (there are 12).\n",
    "\n",
    "To generalize the point, we can detail these features and plot them as histograms."
   ]
  },
  {
   "cell_type": "code",
   "execution_count": 20,
   "metadata": {},
   "outputs": [
    {
     "name": "stdout",
     "output_type": "stream",
     "text": [
      "Number of images per label:\n",
      "count       13\n",
      "mean     14214\n",
      "std       5984\n",
      "min        773\n",
      "25%      16159\n",
      "50%      17050\n",
      "75%      17625\n",
      "max      17943\n",
      "dtype: int64\n"
     ]
    }
   ],
   "source": [
    "print(\"Number of images per label:\\n{}\".format(image_count_per_label.describe().astype(int)))"
   ]
  },
  {
   "cell_type": "code",
   "execution_count": 24,
   "metadata": {},
   "outputs": [
    {
     "data": {
      "image/png": "[encoded data removed]",
      "text/plain": [
       "<Figure size 432x288 with 1 Axes>"
      ]
     },
     "metadata": {
      "needs_background": "light"
     },
     "output_type": "display_data"
    }
   ],
   "source": [
    "image_count_hist = plt.hist(image_count_per_label,\n",
    "                            bins=range(0, 18001, 1000))\n",
    "xt = plt.xticks(range(0, 18001, 1000), rotation=90)"
   ]
  },
  {
   "cell_type": "markdown",
   "metadata": {},
   "source": [
    "Almost every label are in a large majority of images. There is only two labels that look rare."
   ]
  },
  {
   "cell_type": "code",
   "execution_count": 25,
   "metadata": {},
   "outputs": [
    {
     "name": "stdout",
     "output_type": "stream",
     "text": [
      "Number of labels per image:\n",
      "count    18000\n",
      "mean        10\n",
      "std          1\n",
      "min          1\n",
      "25%         10\n",
      "50%         10\n",
      "75%         11\n",
      "max         13\n",
      "dtype: int64\n"
     ]
    }
   ],
   "source": [
    "print(\"Number of labels per image:\\n{}\".format(label_count_per_image.describe().astype(int)))"
   ]
  },
  {
   "cell_type": "code",
   "execution_count": 26,
   "metadata": {},
   "outputs": [
    {
     "data": {
      "image/png": "[encoded data removed]",
      "text/plain": [
       "<Figure size 432x288 with 1 Axes>"
      ]
     },
     "metadata": {
      "needs_background": "light"
     },
     "output_type": "display_data"
    }
   ],
   "source": [
    "label_count_hist = plt.hist(label_count_per_image,\n",
    "                            bins=range(0, 13, 3))\n",
    "xt = plt.xticks(range(0, 13, 3), rotation=90)"
   ]
  },
  {
   "cell_type": "markdown",
   "metadata": {},
   "source": [
    "On the other hand, one may see that a majority of images contains more than 9 labels (over 12)."
   ]
  },
  {
   "cell_type": "code",
   "execution_count": 27,
   "metadata": {},
   "outputs": [],
   "source": [
    "df_labels['nb_images'] = image_count_per_label"
   ]
  },
  {
   "cell_type": "code",
   "execution_count": 28,
   "metadata": {},
   "outputs": [
    {
     "data": {
      "text/html": [
       "<div>\n",
       "<style scoped>\n",
       "    .dataframe tbody tr th:only-of-type {\n",
       "        vertical-align: middle;\n",
       "    }\n",
       "\n",
       "    .dataframe tbody tr th {\n",
       "        vertical-align: top;\n",
       "    }\n",
       "\n",
       "    .dataframe thead th {\n",
       "        text-align: right;\n",
       "    }\n",
       "</style>\n",
       "<table border=\"1\" class=\"dataframe\">\n",
       "  <thead>\n",
       "    <tr style=\"text-align: right;\">\n",
       "      <th></th>\n",
       "      <th>color</th>\n",
       "      <th>contains</th>\n",
       "      <th>contains_id</th>\n",
       "      <th>evaluate</th>\n",
       "      <th>family</th>\n",
       "      <th>id</th>\n",
       "      <th>name</th>\n",
       "      <th>nb_images</th>\n",
       "    </tr>\n",
       "  </thead>\n",
       "  <tbody>\n",
       "    <tr>\n",
       "      <th>0</th>\n",
       "      <td>[229, 85, 76]</td>\n",
       "      <td>bird...ground-animal</td>\n",
       "      <td>[0, 1]</td>\n",
       "      <td>True</td>\n",
       "      <td>animal</td>\n",
       "      <td>0</td>\n",
       "      <td>animal</td>\n",
       "      <td>773</td>\n",
       "    </tr>\n",
       "    <tr>\n",
       "      <th>1</th>\n",
       "      <td>[229, 156, 76]</td>\n",
       "      <td>curb...fence...guard-rail...other-barrier...wall</td>\n",
       "      <td>[2, 3, 4, 5, 6]</td>\n",
       "      <td>True</td>\n",
       "      <td>construction</td>\n",
       "      <td>1</td>\n",
       "      <td>barrier</td>\n",
       "      <td>17484</td>\n",
       "    </tr>\n",
       "    <tr>\n",
       "      <th>2</th>\n",
       "      <td>[229, 226, 76]</td>\n",
       "      <td>bike-lane...crosswalk-plain...curb-cut...parki...</td>\n",
       "      <td>[7, 8, 9, 10, 11, 12, 13, 14, 15]</td>\n",
       "      <td>True</td>\n",
       "      <td>construction</td>\n",
       "      <td>2</td>\n",
       "      <td>flat</td>\n",
       "      <td>17929</td>\n",
       "    </tr>\n",
       "    <tr>\n",
       "      <th>3</th>\n",
       "      <td>[161, 229, 76]</td>\n",
       "      <td>person</td>\n",
       "      <td>[19]</td>\n",
       "      <td>True</td>\n",
       "      <td>human</td>\n",
       "      <td>3</td>\n",
       "      <td>human</td>\n",
       "      <td>8475</td>\n",
       "    </tr>\n",
       "    <tr>\n",
       "      <th>4</th>\n",
       "      <td>[90, 229, 76]</td>\n",
       "      <td>crosswalk-zebra...general</td>\n",
       "      <td>[23, 24]</td>\n",
       "      <td>True</td>\n",
       "      <td>marking</td>\n",
       "      <td>4</td>\n",
       "      <td>marking</td>\n",
       "      <td>16159</td>\n",
       "    </tr>\n",
       "    <tr>\n",
       "      <th>5</th>\n",
       "      <td>[76, 229, 132]</td>\n",
       "      <td>mountain...sand...sky...snow...terrain...veget...</td>\n",
       "      <td>[25, 26, 27, 28, 29, 30, 31]</td>\n",
       "      <td>True</td>\n",
       "      <td>nature</td>\n",
       "      <td>5</td>\n",
       "      <td>nature</td>\n",
       "      <td>17943</td>\n",
       "    </tr>\n",
       "    <tr>\n",
       "      <th>6</th>\n",
       "      <td>[76, 229, 203]</td>\n",
       "      <td>banner...bench...bike-rack...billboard...catch...</td>\n",
       "      <td>[32, 33, 34, 35, 36, 37, 38, 39, 40, 41, 42, 4...</td>\n",
       "      <td>True</td>\n",
       "      <td>object</td>\n",
       "      <td>6</td>\n",
       "      <td>object</td>\n",
       "      <td>17140</td>\n",
       "    </tr>\n",
       "    <tr>\n",
       "      <th>7</th>\n",
       "      <td>[76, 185, 229]</td>\n",
       "      <td>bicyclist...motorcyclist...other-rider</td>\n",
       "      <td>[20, 21, 22]</td>\n",
       "      <td>True</td>\n",
       "      <td>human</td>\n",
       "      <td>7</td>\n",
       "      <td>rider</td>\n",
       "      <td>3200</td>\n",
       "    </tr>\n",
       "    <tr>\n",
       "      <th>8</th>\n",
       "      <td>[76, 114, 229]</td>\n",
       "      <td>bridge...building...tunnel</td>\n",
       "      <td>[16, 17, 18]</td>\n",
       "      <td>True</td>\n",
       "      <td>construction</td>\n",
       "      <td>8</td>\n",
       "      <td>structure</td>\n",
       "      <td>16701</td>\n",
       "    </tr>\n",
       "    <tr>\n",
       "      <th>9</th>\n",
       "      <td>[109, 76, 229]</td>\n",
       "      <td>pole...traffic-sign-frame...utility-pole</td>\n",
       "      <td>[45, 46, 47]</td>\n",
       "      <td>True</td>\n",
       "      <td>object</td>\n",
       "      <td>9</td>\n",
       "      <td>support</td>\n",
       "      <td>17826</td>\n",
       "    </tr>\n",
       "    <tr>\n",
       "      <th>10</th>\n",
       "      <td>[179, 76, 229]</td>\n",
       "      <td>back...front</td>\n",
       "      <td>[49, 50]</td>\n",
       "      <td>True</td>\n",
       "      <td>object</td>\n",
       "      <td>10</td>\n",
       "      <td>traffic-sign</td>\n",
       "      <td>16489</td>\n",
       "    </tr>\n",
       "    <tr>\n",
       "      <th>11</th>\n",
       "      <td>[229, 76, 208]</td>\n",
       "      <td>bicycle...boat...bus...car...caravan...motorcy...</td>\n",
       "      <td>[52, 53, 54, 55, 56, 57, 58, 59, 60, 61, 62]</td>\n",
       "      <td>True</td>\n",
       "      <td>object</td>\n",
       "      <td>11</td>\n",
       "      <td>vehicle</td>\n",
       "      <td>17050</td>\n",
       "    </tr>\n",
       "    <tr>\n",
       "      <th>12</th>\n",
       "      <td>[229, 76, 137]</td>\n",
       "      <td>car-mount...ego-vehicle...unlabeled</td>\n",
       "      <td>[63, 64, 65]</td>\n",
       "      <td>True</td>\n",
       "      <td>void</td>\n",
       "      <td>12</td>\n",
       "      <td>void</td>\n",
       "      <td>17625</td>\n",
       "    </tr>\n",
       "  </tbody>\n",
       "</table>\n",
       "</div>"
      ],
      "text/plain": [
       "             color                                           contains  \\\n",
       "0    [229, 85, 76]                               bird...ground-animal   \n",
       "1   [229, 156, 76]   curb...fence...guard-rail...other-barrier...wall   \n",
       "2   [229, 226, 76]  bike-lane...crosswalk-plain...curb-cut...parki...   \n",
       "3   [161, 229, 76]                                             person   \n",
       "4    [90, 229, 76]                          crosswalk-zebra...general   \n",
       "5   [76, 229, 132]  mountain...sand...sky...snow...terrain...veget...   \n",
       "6   [76, 229, 203]  banner...bench...bike-rack...billboard...catch...   \n",
       "7   [76, 185, 229]             bicyclist...motorcyclist...other-rider   \n",
       "8   [76, 114, 229]                         bridge...building...tunnel   \n",
       "9   [109, 76, 229]           pole...traffic-sign-frame...utility-pole   \n",
       "10  [179, 76, 229]                                       back...front   \n",
       "11  [229, 76, 208]  bicycle...boat...bus...car...caravan...motorcy...   \n",
       "12  [229, 76, 137]                car-mount...ego-vehicle...unlabeled   \n",
       "\n",
       "                                          contains_id  evaluate        family  \\\n",
       "0                                              [0, 1]      True        animal   \n",
       "1                                     [2, 3, 4, 5, 6]      True  construction   \n",
       "2                   [7, 8, 9, 10, 11, 12, 13, 14, 15]      True  construction   \n",
       "3                                                [19]      True         human   \n",
       "4                                            [23, 24]      True       marking   \n",
       "5                        [25, 26, 27, 28, 29, 30, 31]      True        nature   \n",
       "6   [32, 33, 34, 35, 36, 37, 38, 39, 40, 41, 42, 4...      True        object   \n",
       "7                                        [20, 21, 22]      True         human   \n",
       "8                                        [16, 17, 18]      True  construction   \n",
       "9                                        [45, 46, 47]      True        object   \n",
       "10                                           [49, 50]      True        object   \n",
       "11       [52, 53, 54, 55, 56, 57, 58, 59, 60, 61, 62]      True        object   \n",
       "12                                       [63, 64, 65]      True          void   \n",
       "\n",
       "    id          name  nb_images  \n",
       "0    0        animal        773  \n",
       "1    1       barrier      17484  \n",
       "2    2          flat      17929  \n",
       "3    3         human       8475  \n",
       "4    4       marking      16159  \n",
       "5    5        nature      17943  \n",
       "6    6        object      17140  \n",
       "7    7         rider       3200  \n",
       "8    8     structure      16701  \n",
       "9    9       support      17826  \n",
       "10  10  traffic-sign      16489  \n",
       "11  11       vehicle      17050  \n",
       "12  12          void      17625  "
      ]
     },
     "execution_count": 28,
     "metadata": {},
     "output_type": "execute_result"
    }
   ],
   "source": [
    "df_labels"
   ]
  },
  {
   "cell_type": "markdown",
   "metadata": {},
   "source": [
    "The most frequent labels are landscape items (`nature`, *i.e.* sky or vegetation), `flat` items (*i.e.* roads) or `support` (poles, mainly), which seems trivial for street-scene images."
   ]
  },
  {
   "cell_type": "code",
   "execution_count": 29,
   "metadata": {},
   "outputs": [
    {
     "data": {
      "text/html": [
       "<div>\n",
       "<style scoped>\n",
       "    .dataframe tbody tr th:only-of-type {\n",
       "        vertical-align: middle;\n",
       "    }\n",
       "\n",
       "    .dataframe tbody tr th {\n",
       "        vertical-align: top;\n",
       "    }\n",
       "\n",
       "    .dataframe thead th {\n",
       "        text-align: right;\n",
       "    }\n",
       "</style>\n",
       "<table border=\"1\" class=\"dataframe\">\n",
       "  <thead>\n",
       "    <tr style=\"text-align: right;\">\n",
       "      <th></th>\n",
       "      <th>name</th>\n",
       "      <th>nb_images</th>\n",
       "    </tr>\n",
       "  </thead>\n",
       "  <tbody>\n",
       "    <tr>\n",
       "      <th>5</th>\n",
       "      <td>nature</td>\n",
       "      <td>17943</td>\n",
       "    </tr>\n",
       "    <tr>\n",
       "      <th>2</th>\n",
       "      <td>flat</td>\n",
       "      <td>17929</td>\n",
       "    </tr>\n",
       "    <tr>\n",
       "      <th>9</th>\n",
       "      <td>support</td>\n",
       "      <td>17826</td>\n",
       "    </tr>\n",
       "  </tbody>\n",
       "</table>\n",
       "</div>"
      ],
      "text/plain": [
       "      name  nb_images\n",
       "5   nature      17943\n",
       "2     flat      17929\n",
       "9  support      17826"
      ]
     },
     "execution_count": 29,
     "metadata": {},
     "output_type": "execute_result"
    }
   ],
   "source": [
    "df_labels.sort_values(\"nb_images\", ascending=False)[['name', 'nb_images']].head(3)"
   ]
  },
  {
   "cell_type": "markdown",
   "metadata": {},
   "source": [
    "On the other hand, rare objects within the dataset are mostly living beings like `animal`, `rider` or `human` (pedestrians)."
   ]
  },
  {
   "cell_type": "code",
   "execution_count": 31,
   "metadata": {},
   "outputs": [
    {
     "data": {
      "text/html": [
       "<div>\n",
       "<style scoped>\n",
       "    .dataframe tbody tr th:only-of-type {\n",
       "        vertical-align: middle;\n",
       "    }\n",
       "\n",
       "    .dataframe tbody tr th {\n",
       "        vertical-align: top;\n",
       "    }\n",
       "\n",
       "    .dataframe thead th {\n",
       "        text-align: right;\n",
       "    }\n",
       "</style>\n",
       "<table border=\"1\" class=\"dataframe\">\n",
       "  <thead>\n",
       "    <tr style=\"text-align: right;\">\n",
       "      <th></th>\n",
       "      <th>name</th>\n",
       "      <th>nb_images</th>\n",
       "    </tr>\n",
       "  </thead>\n",
       "  <tbody>\n",
       "    <tr>\n",
       "      <th>0</th>\n",
       "      <td>animal</td>\n",
       "      <td>773</td>\n",
       "    </tr>\n",
       "    <tr>\n",
       "      <th>7</th>\n",
       "      <td>rider</td>\n",
       "      <td>3200</td>\n",
       "    </tr>\n",
       "    <tr>\n",
       "      <th>3</th>\n",
       "      <td>human</td>\n",
       "      <td>8475</td>\n",
       "    </tr>\n",
       "  </tbody>\n",
       "</table>\n",
       "</div>"
      ],
      "text/plain": [
       "     name  nb_images\n",
       "0  animal        773\n",
       "7   rider       3200\n",
       "3   human       8475"
      ]
     },
     "execution_count": 31,
     "metadata": {},
     "output_type": "execute_result"
    }
   ],
   "source": [
    "df_labels.sort_values(\"nb_images\", ascending=True)[['name', 'nb_images']].head(3)"
   ]
  },
  {
   "cell_type": "code",
   "execution_count": null,
   "metadata": {},
   "outputs": [],
   "source": []
  }
 ],
 "metadata": {
  "kernelspec": {
   "display_name": "Python 3",
   "language": "python",
   "name": "python3"
  },
  "language_info": {
   "codemirror_mode": {
    "name": "ipython",
    "version": 3
   },
   "file_extension": ".py",
   "mimetype": "text/x-python",
   "name": "python",
   "nbconvert_exporter": "python",
   "pygments_lexer": "ipython3",
   "version": "3.6.5"
  }
 },
 "nbformat": 4,
 "nbformat_minor": 2
}
